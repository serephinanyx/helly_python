{
 "cells": [
  {
   "cell_type": "code",
   "execution_count": 1,
   "metadata": {},
   "outputs": [
    {
     "name": "stdout",
     "output_type": "stream",
     "text": [
      "hello\n"
     ]
    }
   ],
   "source": [
    "print(\"hello\")"
   ]
  },
  {
   "cell_type": "markdown",
   "metadata": {},
   "source": [
    "__intit__.py:which is contain in any blank folder\n",
    "    \n",
    "    if any blank folder contain this blank __intit__.pyfile\n",
    "    it consider as a package\n",
    "\n",
    "__intit__():constuctor:\n",
    "           which call automatically when object of class create"
   ]
  },
  {
   "cell_type": "code",
   "execution_count": 6,
   "metadata": {},
   "outputs": [
    {
     "name": "stdout",
     "output_type": "stream",
     "text": [
      "hello welcome to electostore\n"
     ]
    }
   ],
   "source": [
    "class electostore:\n",
    "    def __init__(self):\n",
    "        print(\"hello welcome to electostore\")\n",
    "obj=electostore()\n"
   ]
  },
  {
   "cell_type": "markdown",
   "metadata": {},
   "source": [
    "Accessbility\n",
    "\n",
    "Access specifiers\n",
    "\n",
    "Modifiers\n",
    "\n",
    "by default all class data member and member function are public\n",
    "\n",
    "if we want to make data member private we need denoted with __ or _ in prefix"
   ]
  },
  {
   "cell_type": "code",
   "execution_count": 8,
   "metadata": {},
   "outputs": [
    {
     "name": "stdout",
     "output_type": "stream",
     "text": [
      "mobile= 45000\n",
      "laptop= 50000\n",
      "mobile= 7580\n",
      "laptop= 50000\n",
      "___CHANGE PRICE____\n",
      "mobile= 7580\n",
      "laptop= 7500\n"
     ]
    }
   ],
   "source": [
    "class mobilestore:\n",
    "    def __init__(self):\n",
    "        self.mobile=45000\n",
    "        self.laptop=50000\n",
    "\n",
    "    def display(self):\n",
    "        print(\"mobile=\",self.mobile)\n",
    "        print(\"laptop=\",self.laptop)\n",
    "    \n",
    "    def changeprice(self,newprice):\n",
    "        self.laptop=newprice\n",
    "\n",
    "obj = mobilestore()\n",
    "obj.display()\n",
    "\n",
    "obj.mobile = 7580\n",
    "obj.laptop= 50000\n",
    "obj.display()\n",
    "\n",
    "print(\"___CHANGE PRICE____\")\n",
    "obj.changeprice(7500)\n",
    "\n",
    "obj.display()\n"
   ]
  },
  {
   "cell_type": "markdown",
   "metadata": {},
   "source": [
    "INHERITANCE:\n",
    "            one class derives properties of another class is called inhertitance\n",
    "\n",
    "\n",
    "--> using of inheritance we can reduce our properties\n",
    "\n",
    "-->there are total 5 types of inheritance\n",
    "\n",
    "1) single level\n",
    "2) multi level\n",
    "3) multiple level\n",
    "4) hiearchical\n",
    "5) hybrid  "
   ]
  },
  {
   "cell_type": "code",
   "execution_count": 10,
   "metadata": {},
   "outputs": [
    {
     "name": "stdout",
     "output_type": "stream",
     "text": [
      "hello parent class method called\n",
      "hello child class method called\n"
     ]
    }
   ],
   "source": [
    "#single level:\n",
    "class parent:\n",
    "    def display(self):\n",
    "        print(\"hello parent class method called\")\n",
    "\n",
    "class child(parent):\n",
    "    def child_display(self):\n",
    "        print(\"hello child class method called\")\n",
    "\n",
    "obj=child()\n",
    "obj.display()\n",
    "obj.child_display()"
   ]
  },
  {
   "cell_type": "markdown",
   "metadata": {},
   "source": [
    "multi level inheritance\n",
    "\n",
    "                     class A\n",
    "                        |\n",
    "                        V\n",
    "                     class B\n",
    "                        |\n",
    "                        V\n",
    "                     class C"
   ]
  },
  {
   "cell_type": "code",
   "execution_count": 11,
   "metadata": {},
   "outputs": [
    {
     "name": "stdout",
     "output_type": "stream",
     "text": [
      "A class display\n",
      "B class display\n",
      "C class display\n"
     ]
    }
   ],
   "source": [
    "# multi level\n",
    "\n",
    "class A:\n",
    "    def dispalyA(self):\n",
    "        print(\"A class display\")\n",
    "class B(A):\n",
    "    def displayB(self):\n",
    "        print(\"B class display\")\n",
    "class C(B):\n",
    "    def displayC(self):\n",
    "        print(\"C class display\")\n",
    "obj = C()\n",
    "\n",
    "obj.dispalyA()\n",
    "obj.displayB()\n",
    "obj.displayC()"
   ]
  },
  {
   "cell_type": "markdown",
   "metadata": {},
   "source": [
    "multiple inheritance:\n",
    "\n",
    "                         A\n",
    "                         |\n",
    "                         V\n",
    "            ----------        ------------\n",
    "                |                   |\n",
    "                V                   V\n",
    "                B                   C"
   ]
  },
  {
   "cell_type": "code",
   "execution_count": 16,
   "metadata": {},
   "outputs": [
    {
     "name": "stdout",
     "output_type": "stream",
     "text": [
      "Display A class\n",
      "Display B class\n",
      "Display C class\n"
     ]
    }
   ],
   "source": [
    "# multiple inheritance:\n",
    "\n",
    "class A:\n",
    "    def displayA(self):\n",
    "        print(\"Display A class\")\n",
    "\n",
    "class B(A):\n",
    "    def displayB(self):\n",
    "        print(\"Display B class\")\n",
    "class C(A):\n",
    "    def displayC(self):\n",
    "        print(\"Display C class\")\n",
    "\n",
    "obj= B()\n",
    "obj1= C()\n",
    "obj.displayA()\n",
    "obj.displayB()\n",
    "obj1.displayC()\n"
   ]
  },
  {
   "cell_type": "markdown",
   "metadata": {},
   "source": [
    "class:\n",
    "       class is a collection of datamember (variable) and member function (method or function) in single entity\n",
    "\n",
    "object: \n",
    "       variable of class- using of object we can access properties of class"
   ]
  },
  {
   "cell_type": "markdown",
   "metadata": {},
   "source": [
    "\"\"\"\n",
    "encapsulation : which is contain data member and member function in single entity\n",
    "\n",
    "we can also provide access access mofiers in class member.\n",
    "\n",
    "1) private\n",
    "\"\"\""
   ]
  },
  {
   "cell_type": "markdown",
   "metadata": {},
   "source": [
    "RBI\n",
    "--> ROI\n",
    "\n",
    "RBI - manager can change roi\n",
    "\n",
    "sbi- view roi\n",
    "hdfc- view roi\n"
   ]
  },
  {
   "cell_type": "code",
   "execution_count": 1,
   "metadata": {},
   "outputs": [],
   "source": [
    "class productclass:\n",
    "    \"\"\"\n",
    "        __init__work as a constructor\n",
    "        it automatically call when object of class create\n",
    "    \"\"\"\n",
    "    \n",
    "    def __init__(self):\n",
    "        print(\"welcome to product panel\")\n",
    "        self.mobile=50000\n",
    "        self.__laptop=45000         #self.__laptop(private it will not chng price of laptop)\n",
    "\n",
    "    def display(self):\n",
    "        print(self.mobile)\n",
    "        print(self.__laptop)\n",
    "\n",
    "    def updateprice(self,newlaptopprice):\n",
    "        self.__laptop=newlaptopprice"
   ]
  },
  {
   "cell_type": "markdown",
   "metadata": {},
   "source": [
    "inheritance:\n",
    "            one class derives properties of another class its called inheritance\n",
    "\n",
    "            parent and child inheritance\n",
    "\n",
    "\n",
    "why we use inheritance:\n",
    "                        inheritance provide reuseability\n",
    "                        reduce code and save time"
   ]
  },
  {
   "cell_type": "markdown",
   "metadata": {},
   "source": [
    "-->example:\n",
    "\n",
    "                                     user\n",
    "-----------------------------------------------------------------\n",
    "                                    email\n",
    "                                    password\n",
    "doctor                                                         paitent\n",
    "                                                               \n",
    "user                                                            user\n",
    "\n",
    "specification                                                    bldgrp"
   ]
  },
  {
   "cell_type": "markdown",
   "metadata": {},
   "source": [
    "1) single level inheritance\n",
    "\n",
    "                               user\n",
    "                                |\n",
    "                                V\n",
    "                               doctor\n",
    "\n",
    "\n",
    "2) hierarchical inheritance \n",
    "                                         user\n",
    "                                          |\n",
    "                              ----------------------------\n",
    "                             doctor                  patient\n",
    "\n",
    "\n",
    "3) multiple inheritance\n",
    "\n",
    "                            parent                           parent\n",
    "                              |                                |\n",
    "                            ----------------------------------------\n",
    "                                               |\n",
    "                                            child  \n",
    "\n",
    "4) hybrid:\n",
    "\n",
    "                                      A\n",
    "                                      |\n",
    "                        -------------------------------\n",
    "                        B                              C\n",
    "                        |                               |\n",
    "                        |                               |\n",
    "                        ---------------|-----------------\n",
    "                                       D"
   ]
  },
  {
   "cell_type": "markdown",
   "metadata": {},
   "source": [
    "polymorphism:\n",
    "             poly means many and morphism means forms one namd method has different form its called polymorphism\n",
    "\n",
    "1) method overloading:\n",
    "              one class have same method name\n",
    "\n",
    "2) method overriding:\n",
    "              two class have same name method-method overriding in python - we support method overriding only\n",
    "              "
   ]
  },
  {
   "cell_type": "markdown",
   "metadata": {},
   "source": [
    "---------------------------------------------------------------------------------------------------------------------------------------"
   ]
  },
  {
   "cell_type": "markdown",
   "metadata": {},
   "source": [
    "GUI:\n",
    "    graphic user interface"
   ]
  },
  {
   "cell_type": "markdown",
   "metadata": {},
   "source": [
    "ABSTRACTION:\n",
    "\n",
    "        ---> in inheritance child class can access all the properties od parent class that means there is lack of security\n",
    "\n",
    "            to resolve this issue we can use abstraction method\n",
    "\n",
    "    WHAT IS MEANING OF ABSTRACTION?\n",
    "\n",
    "           is represent only few information - not allocated background information\n",
    "\n",
    "           to achive this abstraction concept we need to use abstract class\n",
    "\n",
    "        ---> to achive abstraction we need to import ABC\n",
    "   WHAT IS ABC?\n",
    "           \n",
    "           Abstract Base Class\n",
    "\n",
    "        from abc import ABC"
   ]
  },
  {
   "cell_type": "markdown",
   "metadata": {},
   "source": [
    "\n",
    "SQL QUERY:\n",
    "-->CREATE DATABASE:\n",
    "\n",
    "                create database <databasename>;\n",
    "\n",
    "-->TABLE CREATION:\n",
    "\n",
    "               create table <tablename>  (columnname datatype,columnname datatype...)"
   ]
  }
 ],
 "metadata": {
  "kernelspec": {
   "display_name": "Python 3.10.5 64-bit",
   "language": "python",
   "name": "python3"
  },
  "language_info": {
   "codemirror_mode": {
    "name": "ipython",
    "version": 3
   },
   "file_extension": ".py",
   "mimetype": "text/x-python",
   "name": "python",
   "nbconvert_exporter": "python",
   "pygments_lexer": "ipython3",
   "version": "3.10.5"
  },
  "orig_nbformat": 4,
  "vscode": {
   "interpreter": {
    "hash": "369f2c481f4da34e4445cda3fffd2e751bd1c4d706f27375911949ba6bb62e1c"
   }
  }
 },
 "nbformat": 4,
 "nbformat_minor": 2
}
