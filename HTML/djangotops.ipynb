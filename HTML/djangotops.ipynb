{
 "cells": [
  {
   "cell_type": "markdown",
   "metadata": {},
   "source": [
    "HTML:\n",
    "\n",
    "what is HTML?\n",
    "           \n",
    "           hyper text markup language\n",
    "html: which is encoded with tags\n",
    "\n",
    "    there are 2 types of tags\n",
    "\n",
    "singular tag\n",
    "\n",
    "                <hr>\n",
    "                <br>\n",
    "                <img>\n",
    "paired tags\n",
    "\n",
    "            expect above 3 tags all tags are paired tags"
   ]
  },
  {
   "cell_type": "markdown",
   "metadata": {},
   "source": [
    "CSS:\n",
    "\n",
    "what is CSS?\n",
    "\n",
    "         cascading style sheet\n",
    "\n",
    "there are 3 types of css :\n",
    "1) inline css\n",
    "2) internal css\n",
    "3) external css\n",
    "\n"
   ]
  },
  {
   "cell_type": "markdown",
   "metadata": {},
   "source": [
    "LIST:\n",
    "there are 3 types of list:\n",
    "\n",
    "1)unordered\n",
    "2)ordered\n",
    "3)description"
   ]
  },
  {
   "cell_type": "markdown",
   "metadata": {},
   "source": []
  }
 ],
 "metadata": {
  "kernelspec": {
   "display_name": "Python 3.10.5 64-bit",
   "language": "python",
   "name": "python3"
  },
  "language_info": {
   "name": "python",
   "version": "3.10.5"
  },
  "orig_nbformat": 4,
  "vscode": {
   "interpreter": {
    "hash": "369f2c481f4da34e4445cda3fffd2e751bd1c4d706f27375911949ba6bb62e1c"
   }
  }
 },
 "nbformat": 4,
 "nbformat_minor": 2
}
